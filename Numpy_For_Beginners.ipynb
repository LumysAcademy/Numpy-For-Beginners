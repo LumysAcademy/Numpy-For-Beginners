{
 "cells": [
  {
   "cell_type": "markdown",
   "id": "11f5a050",
   "metadata": {},
   "source": [
    "## Installing Numpy"
   ]
  },
  {
   "cell_type": "code",
   "execution_count": 76,
   "id": "ef559d22",
   "metadata": {},
   "outputs": [],
   "source": [
    "#pip install numpy"
   ]
  },
  {
   "cell_type": "code",
   "execution_count": 77,
   "id": "030d0265",
   "metadata": {},
   "outputs": [],
   "source": [
    "import numpy"
   ]
  },
  {
   "cell_type": "code",
   "execution_count": null,
   "id": "16e93afe",
   "metadata": {},
   "outputs": [],
   "source": [
    "numpy.__version__"
   ]
  },
  {
   "cell_type": "code",
   "execution_count": 78,
   "id": "a4d289a1",
   "metadata": {},
   "outputs": [
    {
     "data": {
      "text/plain": [
       "array([1, 5, 7, 9])"
      ]
     },
     "execution_count": 78,
     "metadata": {},
     "output_type": "execute_result"
    }
   ],
   "source": [
    "numpy.array ( [1,5,7,9])"
   ]
  },
  {
   "cell_type": "markdown",
   "id": "2e5fdded",
   "metadata": {},
   "source": [
    "## 1D Numpy Array Part-1"
   ]
  },
  {
   "cell_type": "code",
   "execution_count": 80,
   "id": "aac0f8ef",
   "metadata": {
    "scrolled": true
   },
   "outputs": [],
   "source": [
    "import numpy as np"
   ]
  },
  {
   "cell_type": "code",
   "execution_count": 7,
   "id": "feb802c0",
   "metadata": {},
   "outputs": [
    {
     "data": {
      "text/plain": [
       "array([ 8,  2, 12, 10])"
      ]
     },
     "execution_count": 7,
     "metadata": {},
     "output_type": "execute_result"
    }
   ],
   "source": [
    "np.array ( [ 8,2,12,10])"
   ]
  },
  {
   "cell_type": "code",
   "execution_count": 9,
   "id": "7c5219a1",
   "metadata": {},
   "outputs": [
    {
     "data": {
      "text/plain": [
       "array([ 1,  5,  7,  9,  4,  5,  8, 93,  0])"
      ]
     },
     "execution_count": 9,
     "metadata": {},
     "output_type": "execute_result"
    }
   ],
   "source": [
    "np.array ( [ 1,5,7,9,4,5,8,93,0])"
   ]
  },
  {
   "cell_type": "markdown",
   "id": "a7442718",
   "metadata": {},
   "source": [
    "## 2D Numpy Array [Part 2]"
   ]
  },
  {
   "cell_type": "code",
   "execution_count": 12,
   "id": "7a5913ca",
   "metadata": {},
   "outputs": [
    {
     "data": {
      "text/plain": [
       "array([ 2, 18, 19])"
      ]
     },
     "execution_count": 12,
     "metadata": {},
     "output_type": "execute_result"
    }
   ],
   "source": [
    "np.array( [2,18,19])"
   ]
  },
  {
   "cell_type": "code",
   "execution_count": 13,
   "id": "1d04529e",
   "metadata": {},
   "outputs": [
    {
     "data": {
      "text/plain": [
       "array([ 8, 19, 13])"
      ]
     },
     "execution_count": 13,
     "metadata": {},
     "output_type": "execute_result"
    }
   ],
   "source": [
    "np.array ( [8,19,13])"
   ]
  },
  {
   "cell_type": "code",
   "execution_count": 14,
   "id": "a3db40cc",
   "metadata": {},
   "outputs": [
    {
     "data": {
      "text/plain": [
       "array([[ 2, 18, 19],\n",
       "       [ 8, 19, 13]])"
      ]
     },
     "execution_count": 14,
     "metadata": {},
     "output_type": "execute_result"
    }
   ],
   "source": [
    "np.array ( [ [2,18,19] , [8,19,13] ])"
   ]
  },
  {
   "cell_type": "code",
   "execution_count": 16,
   "id": "667561b9",
   "metadata": {},
   "outputs": [
    {
     "data": {
      "text/plain": [
       "array([[ 8,  2, 12, 10, 99, 10],\n",
       "       [ 7, 12, 44, 31, 97, 22],\n",
       "       [ 2, 18, 19, 58,  9, 85],\n",
       "       [ 8, 19, 13, 79,  7, 17]])"
      ]
     },
     "execution_count": 16,
     "metadata": {},
     "output_type": "execute_result"
    }
   ],
   "source": [
    "np.array( [ [8,2,12,10,99,10] ,[7,12,44,31,97,22] , [2,18,19,58,9,85] ,[8,19,13,79,7,17] ])"
   ]
  },
  {
   "cell_type": "markdown",
   "id": "1fdeb186",
   "metadata": {},
   "source": [
    "copy below 1D numpy arrays to create two dimentional arrays"
   ]
  },
  {
   "cell_type": "code",
   "execution_count": null,
   "id": "7e612769",
   "metadata": {},
   "outputs": [],
   "source": [
    " # [8,2,12,10,99,10],[7,12,44,31,97,22] ,[2,18,19,58,9,85],[8,19,13,79,7,17] "
   ]
  },
  {
   "cell_type": "markdown",
   "id": "2a42741f",
   "metadata": {},
   "source": [
    "## 3D Numpy Array [Part 3]"
   ]
  },
  {
   "cell_type": "code",
   "execution_count": null,
   "id": "6d4703bd",
   "metadata": {},
   "outputs": [],
   "source": [
    "np.array (  [ [[ 2,18,19], [8,19,13]] , [[ 88,11,55], [99,66,77]] ]  )"
   ]
  },
  {
   "cell_type": "code",
   "execution_count": null,
   "id": "29ecaa10",
   "metadata": {},
   "outputs": [],
   "source": [
    "np.array( [ [[ 1,7,0],[0,6,9]] , [[ 88,11,55],[99,66,77]] , [[ 2,5,8],[15,12,10]] ])"
   ]
  },
  {
   "cell_type": "markdown",
   "id": "fc51e684",
   "metadata": {},
   "source": [
    "Copy below arrays to create the above 3 D arrays"
   ]
  },
  {
   "cell_type": "code",
   "execution_count": null,
   "id": "54d6dc5e",
   "metadata": {},
   "outputs": [],
   "source": [
    "np.array (  [[ 2,18,19], [8,19,13]] )"
   ]
  },
  {
   "cell_type": "code",
   "execution_count": null,
   "id": "d7ed1af3",
   "metadata": {},
   "outputs": [],
   "source": [
    "np.array (  [[ 88,11,55], [99,66,77]] )"
   ]
  },
  {
   "cell_type": "code",
   "execution_count": null,
   "id": "58cb1b13",
   "metadata": {
    "scrolled": true
   },
   "outputs": [],
   "source": [
    "np.array ( [[ 1,7,0],[0,6,9]])"
   ]
  },
  {
   "cell_type": "code",
   "execution_count": null,
   "id": "c308e586",
   "metadata": {},
   "outputs": [],
   "source": [
    "np.array ( [[ 88,11,55],[99,66,77]])"
   ]
  },
  {
   "cell_type": "code",
   "execution_count": null,
   "id": "4375fdfc",
   "metadata": {},
   "outputs": [],
   "source": [
    "np.array ( [[ 2,5,8],[15,12,10]]  )"
   ]
  },
  {
   "cell_type": "code",
   "execution_count": null,
   "id": "96708a07",
   "metadata": {},
   "outputs": [],
   "source": []
  },
  {
   "cell_type": "markdown",
   "id": "ccb07564",
   "metadata": {},
   "source": [
    "## Arange Function [Part -4 ]"
   ]
  },
  {
   "cell_type": "code",
   "execution_count": 3,
   "id": "92a4c423",
   "metadata": {},
   "outputs": [
    {
     "data": {
      "text/plain": [
       "array([ 1,  2,  3,  4,  5,  6,  7,  8,  9, 10, 11, 12, 13, 14, 15, 16, 17,\n",
       "       18, 19])"
      ]
     },
     "execution_count": 3,
     "metadata": {},
     "output_type": "execute_result"
    }
   ],
   "source": [
    "np.arange(1,20)"
   ]
  },
  {
   "cell_type": "code",
   "execution_count": 4,
   "id": "af20c4fa",
   "metadata": {},
   "outputs": [
    {
     "data": {
      "text/plain": [
       "array([15, 16, 17, 18, 19, 20, 21, 22, 23])"
      ]
     },
     "execution_count": 4,
     "metadata": {},
     "output_type": "execute_result"
    }
   ],
   "source": [
    "np.arange(15,24)"
   ]
  },
  {
   "cell_type": "code",
   "execution_count": 5,
   "id": "35e7f63d",
   "metadata": {},
   "outputs": [
    {
     "data": {
      "text/plain": [
       "array([ 0,  1,  2,  3,  4,  5,  6,  7,  8,  9, 10, 11, 12, 13, 14, 15, 16,\n",
       "       17, 18, 19])"
      ]
     },
     "execution_count": 5,
     "metadata": {},
     "output_type": "execute_result"
    }
   ],
   "source": [
    "np.arange(20)"
   ]
  },
  {
   "cell_type": "code",
   "execution_count": 6,
   "id": "b749b56c",
   "metadata": {},
   "outputs": [
    {
     "data": {
      "text/plain": [
       "array([20, 22, 24, 26, 28, 30, 32, 34])"
      ]
     },
     "execution_count": 6,
     "metadata": {},
     "output_type": "execute_result"
    }
   ],
   "source": [
    "np.arange(20,35,2)"
   ]
  },
  {
   "cell_type": "code",
   "execution_count": 7,
   "id": "16fa5f45",
   "metadata": {},
   "outputs": [
    {
     "data": {
      "text/plain": [
       "array([ 1,  6, 11, 16, 21, 26, 31])"
      ]
     },
     "execution_count": 7,
     "metadata": {},
     "output_type": "execute_result"
    }
   ],
   "source": [
    "np.arange(1,35,5)"
   ]
  },
  {
   "cell_type": "code",
   "execution_count": 8,
   "id": "66c9217a",
   "metadata": {},
   "outputs": [
    {
     "data": {
      "text/plain": [
       "array([ 1.,  6., 11., 16., 21., 26., 31.])"
      ]
     },
     "execution_count": 8,
     "metadata": {},
     "output_type": "execute_result"
    }
   ],
   "source": [
    "np.arange(1,35,5,dtype=float)"
   ]
  },
  {
   "cell_type": "code",
   "execution_count": 9,
   "id": "41655bb8",
   "metadata": {},
   "outputs": [
    {
     "data": {
      "text/plain": [
       "array([1., 3., 5., 7., 9.])"
      ]
     },
     "execution_count": 9,
     "metadata": {},
     "output_type": "execute_result"
    }
   ],
   "source": [
    "np.arange(1,10,2.0)"
   ]
  },
  {
   "cell_type": "markdown",
   "id": "6da233fe",
   "metadata": {},
   "source": [
    "## Reshape & Resize [Part 5]"
   ]
  },
  {
   "cell_type": "code",
   "execution_count": 10,
   "id": "8e7d6632",
   "metadata": {},
   "outputs": [
    {
     "data": {
      "text/plain": [
       "array([ 0,  1,  2,  3,  4,  5,  6,  7,  8,  9, 10, 11, 12, 13, 14, 15, 16,\n",
       "       17])"
      ]
     },
     "execution_count": 10,
     "metadata": {},
     "output_type": "execute_result"
    }
   ],
   "source": [
    "x= np.arange(0,18)\n",
    "x"
   ]
  },
  {
   "cell_type": "markdown",
   "id": "9afd6514",
   "metadata": {},
   "source": [
    "#### Resize"
   ]
  },
  {
   "cell_type": "code",
   "execution_count": 11,
   "id": "d358734d",
   "metadata": {},
   "outputs": [
    {
     "data": {
      "text/plain": [
       "array([[ 0,  1,  2],\n",
       "       [ 3,  4,  5],\n",
       "       [ 6,  7,  8],\n",
       "       [ 9, 10, 11],\n",
       "       [12, 13, 14],\n",
       "       [15, 16, 17]])"
      ]
     },
     "execution_count": 11,
     "metadata": {},
     "output_type": "execute_result"
    }
   ],
   "source": [
    "x.resize(6,3)\n",
    "x"
   ]
  },
  {
   "cell_type": "code",
   "execution_count": 13,
   "id": "ebd1bc73",
   "metadata": {},
   "outputs": [
    {
     "data": {
      "text/plain": [
       "array([[ 0,  1,  2,  3,  4,  5],\n",
       "       [ 6,  7,  8,  9, 10, 11],\n",
       "       [12, 13, 14, 15, 16, 17]])"
      ]
     },
     "execution_count": 13,
     "metadata": {},
     "output_type": "execute_result"
    }
   ],
   "source": [
    "x.resize ( 3,6)\n",
    "x"
   ]
  },
  {
   "cell_type": "markdown",
   "id": "9f9e7455",
   "metadata": {},
   "source": [
    "#### 2D TO 3D"
   ]
  },
  {
   "cell_type": "code",
   "execution_count": 15,
   "id": "0f2bef49",
   "metadata": {
    "scrolled": true
   },
   "outputs": [
    {
     "data": {
      "text/plain": [
       "array([[[ 0,  1,  2],\n",
       "        [ 3,  4,  5]],\n",
       "\n",
       "       [[ 6,  7,  8],\n",
       "        [ 9, 10, 11]],\n",
       "\n",
       "       [[12, 13, 14],\n",
       "        [15, 16, 17]]])"
      ]
     },
     "execution_count": 15,
     "metadata": {},
     "output_type": "execute_result"
    }
   ],
   "source": [
    "x.resize( 3,2,3)\n",
    "x"
   ]
  },
  {
   "cell_type": "markdown",
   "id": "f396ac54",
   "metadata": {},
   "source": [
    "#### 1D TO 3D"
   ]
  },
  {
   "cell_type": "code",
   "execution_count": 16,
   "id": "cf0f6211",
   "metadata": {},
   "outputs": [
    {
     "data": {
      "text/plain": [
       "array([ 0,  1,  2,  3,  4,  5,  6,  7,  8,  9, 10, 11, 12, 13, 14, 15, 16,\n",
       "       17])"
      ]
     },
     "execution_count": 16,
     "metadata": {},
     "output_type": "execute_result"
    }
   ],
   "source": [
    "x= np.arange(0,18)\n",
    "x"
   ]
  },
  {
   "cell_type": "code",
   "execution_count": 24,
   "id": "4abad27f",
   "metadata": {
    "scrolled": true
   },
   "outputs": [
    {
     "data": {
      "text/plain": [
       "array([[[ 0,  1,  2],\n",
       "        [ 3,  4,  5]],\n",
       "\n",
       "       [[ 6,  7,  8],\n",
       "        [ 9, 10, 11]],\n",
       "\n",
       "       [[12, 13, 14],\n",
       "        [15, 16, 17]]])"
      ]
     },
     "execution_count": 24,
     "metadata": {},
     "output_type": "execute_result"
    }
   ],
   "source": [
    "x.resize ( 3,2,3)\n",
    "x"
   ]
  },
  {
   "cell_type": "markdown",
   "id": "5170daf1",
   "metadata": {},
   "source": [
    "### Reshape"
   ]
  },
  {
   "cell_type": "markdown",
   "id": "4c590649",
   "metadata": {},
   "source": [
    "In resize original array gets upated into the new shape\n",
    "But in resahpe original array remains unchanged"
   ]
  },
  {
   "cell_type": "code",
   "execution_count": 17,
   "id": "473ecef8",
   "metadata": {},
   "outputs": [
    {
     "data": {
      "text/plain": [
       "array([ 0,  1,  2,  3,  4,  5,  6,  7,  8,  9, 10, 11, 12, 13, 14, 15, 16,\n",
       "       17])"
      ]
     },
     "execution_count": 17,
     "metadata": {},
     "output_type": "execute_result"
    }
   ],
   "source": [
    "x= np.arange(0,18)\n",
    "x"
   ]
  },
  {
   "cell_type": "code",
   "execution_count": 18,
   "id": "41378cbd",
   "metadata": {},
   "outputs": [],
   "source": [
    "x.resize ( 3,2,3)"
   ]
  },
  {
   "cell_type": "code",
   "execution_count": 19,
   "id": "74c35930",
   "metadata": {},
   "outputs": [
    {
     "data": {
      "text/plain": [
       "array([[[ 0,  1,  2],\n",
       "        [ 3,  4,  5]],\n",
       "\n",
       "       [[ 6,  7,  8],\n",
       "        [ 9, 10, 11]],\n",
       "\n",
       "       [[12, 13, 14],\n",
       "        [15, 16, 17]]])"
      ]
     },
     "execution_count": 19,
     "metadata": {},
     "output_type": "execute_result"
    }
   ],
   "source": [
    "x"
   ]
  },
  {
   "cell_type": "code",
   "execution_count": 20,
   "id": "bfaa47b4",
   "metadata": {},
   "outputs": [
    {
     "data": {
      "text/plain": [
       "array([ 0,  1,  2,  3,  4,  5,  6,  7,  8,  9, 10, 11, 12, 13, 14, 15, 16,\n",
       "       17])"
      ]
     },
     "execution_count": 20,
     "metadata": {},
     "output_type": "execute_result"
    }
   ],
   "source": [
    "y= np.arange(0,18)\n",
    "y"
   ]
  },
  {
   "cell_type": "code",
   "execution_count": 21,
   "id": "3dc041ad",
   "metadata": {
    "scrolled": true
   },
   "outputs": [
    {
     "data": {
      "text/plain": [
       "array([[[ 0,  1,  2],\n",
       "        [ 3,  4,  5]],\n",
       "\n",
       "       [[ 6,  7,  8],\n",
       "        [ 9, 10, 11]],\n",
       "\n",
       "       [[12, 13, 14],\n",
       "        [15, 16, 17]]])"
      ]
     },
     "execution_count": 21,
     "metadata": {},
     "output_type": "execute_result"
    }
   ],
   "source": [
    "y.reshape ( 3,2,3)"
   ]
  },
  {
   "cell_type": "code",
   "execution_count": 22,
   "id": "13c072ba",
   "metadata": {},
   "outputs": [
    {
     "data": {
      "text/plain": [
       "array([ 0,  1,  2,  3,  4,  5,  6,  7,  8,  9, 10, 11, 12, 13, 14, 15, 16,\n",
       "       17])"
      ]
     },
     "execution_count": 22,
     "metadata": {},
     "output_type": "execute_result"
    }
   ],
   "source": [
    "y"
   ]
  },
  {
   "cell_type": "markdown",
   "id": "ba424b3f",
   "metadata": {},
   "source": [
    "## Indexing 1D [Part -06]"
   ]
  },
  {
   "cell_type": "code",
   "execution_count": 23,
   "id": "e55e86ff",
   "metadata": {},
   "outputs": [],
   "source": [
    "import numpy as np"
   ]
  },
  {
   "cell_type": "code",
   "execution_count": 24,
   "id": "78e3ad88",
   "metadata": {},
   "outputs": [
    {
     "data": {
      "text/plain": [
       "array([ 8,  2, 12, 10])"
      ]
     },
     "execution_count": 24,
     "metadata": {},
     "output_type": "execute_result"
    }
   ],
   "source": [
    "x=np.array( [ 8,2,12,10])\n",
    "x"
   ]
  },
  {
   "cell_type": "code",
   "execution_count": null,
   "id": "f88e0e62",
   "metadata": {},
   "outputs": [],
   "source": [
    "x[1]"
   ]
  },
  {
   "cell_type": "code",
   "execution_count": null,
   "id": "523337c2",
   "metadata": {},
   "outputs": [],
   "source": [
    "x[3]"
   ]
  },
  {
   "cell_type": "markdown",
   "id": "e661ca50",
   "metadata": {},
   "source": [
    "#### Reverse Indexing"
   ]
  },
  {
   "cell_type": "code",
   "execution_count": null,
   "id": "b76f64fe",
   "metadata": {},
   "outputs": [],
   "source": [
    "import numpy as np"
   ]
  },
  {
   "cell_type": "code",
   "execution_count": null,
   "id": "ae01b2b5",
   "metadata": {},
   "outputs": [],
   "source": [
    "np.array( [ 8,2,12,10])"
   ]
  },
  {
   "cell_type": "code",
   "execution_count": null,
   "id": "e001aba7",
   "metadata": {},
   "outputs": [],
   "source": [
    "x[-3]"
   ]
  },
  {
   "cell_type": "code",
   "execution_count": null,
   "id": "765c7e8e",
   "metadata": {},
   "outputs": [],
   "source": [
    "x[-2]"
   ]
  },
  {
   "cell_type": "markdown",
   "id": "de6b431e",
   "metadata": {},
   "source": [
    "##  Indexing 2D [Part -07]"
   ]
  },
  {
   "cell_type": "code",
   "execution_count": 28,
   "id": "94065602",
   "metadata": {
    "scrolled": false
   },
   "outputs": [
    {
     "data": {
      "text/plain": [
       "array([[ 2, 18, 19],\n",
       "       [ 8, 19, 13]])"
      ]
     },
     "execution_count": 28,
     "metadata": {},
     "output_type": "execute_result"
    }
   ],
   "source": [
    "x = np.array([[2,18,19],[8,19,13]])\n",
    "x"
   ]
  },
  {
   "cell_type": "code",
   "execution_count": 29,
   "id": "771e29b4",
   "metadata": {},
   "outputs": [
    {
     "data": {
      "text/plain": [
       "13"
      ]
     },
     "execution_count": 29,
     "metadata": {},
     "output_type": "execute_result"
    }
   ],
   "source": [
    "x[1 , 2]"
   ]
  },
  {
   "cell_type": "code",
   "execution_count": 30,
   "id": "6c2580b9",
   "metadata": {},
   "outputs": [
    {
     "data": {
      "text/plain": [
       "19"
      ]
     },
     "execution_count": 30,
     "metadata": {},
     "output_type": "execute_result"
    }
   ],
   "source": [
    "x[1 , 1]"
   ]
  },
  {
   "cell_type": "code",
   "execution_count": 31,
   "id": "b3c90f98",
   "metadata": {},
   "outputs": [
    {
     "data": {
      "text/plain": [
       "array([[ 0,  1,  2,  3,  4],\n",
       "       [ 5,  6,  7,  8,  9],\n",
       "       [10, 11, 12, 13, 14],\n",
       "       [15, 16, 17, 18, 19],\n",
       "       [20, 21, 22, 23, 24]])"
      ]
     },
     "execution_count": 31,
     "metadata": {},
     "output_type": "execute_result"
    }
   ],
   "source": [
    "y=np.arange(25)\n",
    "y.resize(5,5)\n",
    "y"
   ]
  },
  {
   "cell_type": "code",
   "execution_count": 32,
   "id": "50bdca68",
   "metadata": {},
   "outputs": [
    {
     "data": {
      "text/plain": [
       "12"
      ]
     },
     "execution_count": 32,
     "metadata": {},
     "output_type": "execute_result"
    }
   ],
   "source": [
    "y[2 , 2]"
   ]
  },
  {
   "cell_type": "code",
   "execution_count": 34,
   "id": "2b3730ee",
   "metadata": {},
   "outputs": [
    {
     "data": {
      "text/plain": [
       "24"
      ]
     },
     "execution_count": 34,
     "metadata": {},
     "output_type": "execute_result"
    }
   ],
   "source": [
    "y[4 ,4 ]"
   ]
  },
  {
   "cell_type": "code",
   "execution_count": 35,
   "id": "0ec541fa",
   "metadata": {},
   "outputs": [
    {
     "data": {
      "text/plain": [
       "24"
      ]
     },
     "execution_count": 35,
     "metadata": {},
     "output_type": "execute_result"
    }
   ],
   "source": [
    "y [-1,-1]"
   ]
  },
  {
   "cell_type": "markdown",
   "id": "983c5cce",
   "metadata": {},
   "source": [
    "##  Indexing 3D [Part -08]"
   ]
  },
  {
   "cell_type": "code",
   "execution_count": null,
   "id": "1469fff3",
   "metadata": {},
   "outputs": [],
   "source": [
    "import numpy as np"
   ]
  },
  {
   "cell_type": "code",
   "execution_count": 36,
   "id": "dc7ebc63",
   "metadata": {
    "scrolled": true
   },
   "outputs": [
    {
     "data": {
      "text/plain": [
       "array([[[ 0,  1,  2],\n",
       "        [ 3,  4,  5],\n",
       "        [ 6,  7,  8]],\n",
       "\n",
       "       [[ 9, 10, 11],\n",
       "        [12, 13, 14],\n",
       "        [15, 16, 17]],\n",
       "\n",
       "       [[18, 19, 20],\n",
       "        [21, 22, 23],\n",
       "        [24, 25, 26]]])"
      ]
     },
     "execution_count": 36,
     "metadata": {},
     "output_type": "execute_result"
    }
   ],
   "source": [
    "x= np.arange(27)\n",
    "x.resize(3,3,3)\n",
    "x"
   ]
  },
  {
   "cell_type": "code",
   "execution_count": 37,
   "id": "95e85382",
   "metadata": {
    "scrolled": true
   },
   "outputs": [
    {
     "data": {
      "text/plain": [
       "array([[[ 2, 21, 11],\n",
       "        [ 6,  8,  7],\n",
       "        [ 1, 11, 12]],\n",
       "\n",
       "       [[ 4,  9,  4],\n",
       "        [ 0,  0,  5],\n",
       "        [ 0,  0,  1]],\n",
       "\n",
       "       [[14, 27,  8],\n",
       "        [ 0,  0, 51],\n",
       "        [ 0,  0, 44]]])"
      ]
     },
     "execution_count": 37,
     "metadata": {},
     "output_type": "execute_result"
    }
   ],
   "source": [
    "x = np.array ( [[[2,21,11],[6,8,7],[1,11,12]] , [[4,9,4],[0,0,5],[0,0,1]],[[14,27,8],[0,0,51],[0,0,44]]] )\n",
    "x"
   ]
  },
  {
   "cell_type": "code",
   "execution_count": null,
   "id": "0c83dfcb",
   "metadata": {},
   "outputs": [],
   "source": [
    "x[0]"
   ]
  },
  {
   "cell_type": "code",
   "execution_count": null,
   "id": "f8ab2877",
   "metadata": {},
   "outputs": [],
   "source": [
    "x[0,2]"
   ]
  },
  {
   "cell_type": "code",
   "execution_count": 38,
   "id": "c633aa2a",
   "metadata": {},
   "outputs": [
    {
     "data": {
      "text/plain": [
       "11"
      ]
     },
     "execution_count": 38,
     "metadata": {},
     "output_type": "execute_result"
    }
   ],
   "source": [
    "x[0,2,1]"
   ]
  },
  {
   "cell_type": "code",
   "execution_count": null,
   "id": "836d80f8",
   "metadata": {},
   "outputs": [],
   "source": [
    "x[1,0 ,1]"
   ]
  },
  {
   "cell_type": "code",
   "execution_count": null,
   "id": "ce84b6b4",
   "metadata": {},
   "outputs": [],
   "source": [
    "x[0 ,1, 1]"
   ]
  },
  {
   "cell_type": "code",
   "execution_count": null,
   "id": "7999d1f2",
   "metadata": {},
   "outputs": [],
   "source": [
    "x[0,2 ,1]"
   ]
  },
  {
   "cell_type": "markdown",
   "id": "01db80e5",
   "metadata": {},
   "source": [
    "## Slicing 1D [Part-9]"
   ]
  },
  {
   "cell_type": "code",
   "execution_count": null,
   "id": "d0b41313",
   "metadata": {},
   "outputs": [],
   "source": [
    "import numpy as np"
   ]
  },
  {
   "cell_type": "code",
   "execution_count": 39,
   "id": "3652ad05",
   "metadata": {
    "scrolled": false
   },
   "outputs": [
    {
     "data": {
      "text/plain": [
       "array([ 8, 10, 12, 14, 16, 18])"
      ]
     },
     "execution_count": 39,
     "metadata": {},
     "output_type": "execute_result"
    }
   ],
   "source": [
    "x = np.arange(8,19,2)\n",
    "x"
   ]
  },
  {
   "cell_type": "code",
   "execution_count": 40,
   "id": "d0000509",
   "metadata": {},
   "outputs": [
    {
     "data": {
      "text/plain": [
       "array([10, 12, 14])"
      ]
     },
     "execution_count": 40,
     "metadata": {},
     "output_type": "execute_result"
    }
   ],
   "source": [
    "x[1 :4]"
   ]
  },
  {
   "cell_type": "code",
   "execution_count": 41,
   "id": "51914f99",
   "metadata": {},
   "outputs": [
    {
     "data": {
      "text/plain": [
       "array([ 8, 10, 12, 14])"
      ]
     },
     "execution_count": 41,
     "metadata": {},
     "output_type": "execute_result"
    }
   ],
   "source": [
    "x[0: 4]"
   ]
  },
  {
   "cell_type": "code",
   "execution_count": 42,
   "id": "bce9b15d",
   "metadata": {},
   "outputs": [
    {
     "data": {
      "text/plain": [
       "array([ 8, 10, 12])"
      ]
     },
     "execution_count": 42,
     "metadata": {},
     "output_type": "execute_result"
    }
   ],
   "source": [
    "x[0 : 3]"
   ]
  },
  {
   "cell_type": "markdown",
   "id": "fff45293",
   "metadata": {},
   "source": [
    "#### Slicing using reverse indexing"
   ]
  },
  {
   "cell_type": "code",
   "execution_count": 43,
   "id": "0afefee0",
   "metadata": {},
   "outputs": [
    {
     "data": {
      "text/plain": [
       "array([ 8, 10, 12, 14])"
      ]
     },
     "execution_count": 43,
     "metadata": {},
     "output_type": "execute_result"
    }
   ],
   "source": [
    "x[-6 : -2]"
   ]
  },
  {
   "cell_type": "code",
   "execution_count": 44,
   "id": "31decb02",
   "metadata": {},
   "outputs": [
    {
     "data": {
      "text/plain": [
       "array([10, 12, 14, 16])"
      ]
     },
     "execution_count": 44,
     "metadata": {},
     "output_type": "execute_result"
    }
   ],
   "source": [
    "x [ -5 : -1]"
   ]
  },
  {
   "cell_type": "markdown",
   "id": "024388d8",
   "metadata": {},
   "source": [
    "## 2D slicing [Part 10]"
   ]
  },
  {
   "cell_type": "code",
   "execution_count": null,
   "id": "39692a35",
   "metadata": {},
   "outputs": [],
   "source": [
    "import numpy as np"
   ]
  },
  {
   "cell_type": "code",
   "execution_count": 45,
   "id": "956f1896",
   "metadata": {
    "scrolled": false
   },
   "outputs": [
    {
     "data": {
      "text/plain": [
       "array([[ 0,  2,  4,  6],\n",
       "       [ 8, 10, 12, 14],\n",
       "       [16, 18, 20, 22],\n",
       "       [24, 26, 28, 30]])"
      ]
     },
     "execution_count": 45,
     "metadata": {},
     "output_type": "execute_result"
    }
   ],
   "source": [
    "x = np.arange(0,32,2)\n",
    "x.resize(4,4)\n",
    "x"
   ]
  },
  {
   "cell_type": "code",
   "execution_count": 46,
   "id": "1373f7fd",
   "metadata": {
    "scrolled": false
   },
   "outputs": [
    {
     "data": {
      "text/plain": [
       "array([[ 0,  2,  4,  6],\n",
       "       [ 8, 10, 12, 14]])"
      ]
     },
     "execution_count": 46,
     "metadata": {},
     "output_type": "execute_result"
    }
   ],
   "source": [
    "x[0:2]"
   ]
  },
  {
   "cell_type": "code",
   "execution_count": 47,
   "id": "dd56fd4e",
   "metadata": {},
   "outputs": [
    {
     "data": {
      "text/plain": [
       "array([[ 0,  2],\n",
       "       [ 8, 10]])"
      ]
     },
     "execution_count": 47,
     "metadata": {},
     "output_type": "execute_result"
    }
   ],
   "source": [
    "x[0:2 ,0:2]"
   ]
  },
  {
   "cell_type": "code",
   "execution_count": 48,
   "id": "ec120920",
   "metadata": {
    "scrolled": true
   },
   "outputs": [
    {
     "data": {
      "text/plain": [
       "array([[ 0,  2,  4,  6],\n",
       "       [ 8, 10, 12, 14]])"
      ]
     },
     "execution_count": 48,
     "metadata": {},
     "output_type": "execute_result"
    }
   ],
   "source": [
    "x[0:2]"
   ]
  },
  {
   "cell_type": "code",
   "execution_count": 49,
   "id": "511cf4f9",
   "metadata": {
    "scrolled": true
   },
   "outputs": [
    {
     "data": {
      "text/plain": [
       "array([[ 0,  2,  4],\n",
       "       [ 8, 10, 12]])"
      ]
     },
     "execution_count": 49,
     "metadata": {},
     "output_type": "execute_result"
    }
   ],
   "source": [
    "x[0:2 , 0: 3]"
   ]
  },
  {
   "cell_type": "markdown",
   "id": "bfd99ce9",
   "metadata": {},
   "source": [
    "## 3D slicing [Part 11]"
   ]
  },
  {
   "cell_type": "code",
   "execution_count": 50,
   "id": "17c9e1b6",
   "metadata": {},
   "outputs": [],
   "source": [
    "import numpy as np"
   ]
  },
  {
   "cell_type": "code",
   "execution_count": 53,
   "id": "fdbb624f",
   "metadata": {
    "scrolled": true
   },
   "outputs": [
    {
     "data": {
      "text/plain": [
       "array([[[ 2,  4,  6],\n",
       "        [ 8, 10, 12],\n",
       "        [14, 16, 18]],\n",
       "\n",
       "       [[20, 22, 24],\n",
       "        [26, 28, 30],\n",
       "        [32, 34, 36]],\n",
       "\n",
       "       [[38, 40, 42],\n",
       "        [44, 46, 48],\n",
       "        [50, 52, 54]]])"
      ]
     },
     "execution_count": 53,
     "metadata": {},
     "output_type": "execute_result"
    }
   ],
   "source": [
    "x = np.arange(2,56,2)\n",
    "x.resize(3,3,3)\n",
    "x"
   ]
  },
  {
   "cell_type": "code",
   "execution_count": 54,
   "id": "8f2b848a",
   "metadata": {
    "scrolled": false
   },
   "outputs": [
    {
     "data": {
      "text/plain": [
       "array([[[ 2,  4,  6],\n",
       "        [ 8, 10, 12],\n",
       "        [14, 16, 18]],\n",
       "\n",
       "       [[20, 22, 24],\n",
       "        [26, 28, 30],\n",
       "        [32, 34, 36]]])"
      ]
     },
     "execution_count": 54,
     "metadata": {},
     "output_type": "execute_result"
    }
   ],
   "source": [
    "x[0:2]"
   ]
  },
  {
   "cell_type": "code",
   "execution_count": 55,
   "id": "2886ad5a",
   "metadata": {
    "scrolled": false
   },
   "outputs": [
    {
     "data": {
      "text/plain": [
       "array([[[ 2,  4,  6],\n",
       "        [ 8, 10, 12]],\n",
       "\n",
       "       [[20, 22, 24],\n",
       "        [26, 28, 30]]])"
      ]
     },
     "execution_count": 55,
     "metadata": {},
     "output_type": "execute_result"
    }
   ],
   "source": [
    "x[0:2 , 0:2]"
   ]
  },
  {
   "cell_type": "code",
   "execution_count": 56,
   "id": "c5cc10eb",
   "metadata": {
    "scrolled": false
   },
   "outputs": [
    {
     "data": {
      "text/plain": [
       "array([[[ 2,  4],\n",
       "        [ 8, 10]],\n",
       "\n",
       "       [[20, 22],\n",
       "        [26, 28]]])"
      ]
     },
     "execution_count": 56,
     "metadata": {},
     "output_type": "execute_result"
    }
   ],
   "source": [
    "x[0:2 , 0:2 ,0:2]"
   ]
  },
  {
   "cell_type": "code",
   "execution_count": 57,
   "id": "0c82b788",
   "metadata": {
    "scrolled": true
   },
   "outputs": [
    {
     "data": {
      "text/plain": [
       "array([[[ 2,  4],\n",
       "        [ 8, 10]],\n",
       "\n",
       "       [[20, 22],\n",
       "        [26, 28]],\n",
       "\n",
       "       [[38, 40],\n",
       "        [44, 46]]])"
      ]
     },
     "execution_count": 57,
     "metadata": {},
     "output_type": "execute_result"
    }
   ],
   "source": [
    "x[0:3 ,0:2 ,0:2]"
   ]
  },
  {
   "cell_type": "markdown",
   "id": "7c9ee6ac",
   "metadata": {},
   "source": [
    "## Updating Arrays [Part 12]"
   ]
  },
  {
   "cell_type": "markdown",
   "id": "d79ed14d",
   "metadata": {},
   "source": [
    "#### Replace single element by indexing"
   ]
  },
  {
   "cell_type": "code",
   "execution_count": 58,
   "id": "52b400c4",
   "metadata": {
    "scrolled": true
   },
   "outputs": [
    {
     "data": {
      "text/plain": [
       "array([[ 0,  2,  4,  6],\n",
       "       [ 8, 10, 12, 14],\n",
       "       [16, 18, 20, 22],\n",
       "       [24, 26, 28, 30]])"
      ]
     },
     "execution_count": 58,
     "metadata": {},
     "output_type": "execute_result"
    }
   ],
   "source": [
    "x =  np.arange(0,32,2)\n",
    "x.resize(4,4)\n",
    "x"
   ]
  },
  {
   "cell_type": "code",
   "execution_count": 59,
   "id": "f57bf0da",
   "metadata": {},
   "outputs": [],
   "source": [
    "x [1,1] = 100"
   ]
  },
  {
   "cell_type": "code",
   "execution_count": 60,
   "id": "c2e4b344",
   "metadata": {},
   "outputs": [],
   "source": [
    "x[1,2] = 1255"
   ]
  },
  {
   "cell_type": "markdown",
   "id": "9d0ae8bc",
   "metadata": {},
   "source": [
    "#### Replace multiple elements by Slicing"
   ]
  },
  {
   "cell_type": "code",
   "execution_count": null,
   "id": "2c2ad470",
   "metadata": {
    "scrolled": true
   },
   "outputs": [],
   "source": [
    "x"
   ]
  },
  {
   "cell_type": "code",
   "execution_count": null,
   "id": "cca2b843",
   "metadata": {},
   "outputs": [],
   "source": [
    "x[0:2, 0:2] = 222"
   ]
  },
  {
   "cell_type": "code",
   "execution_count": null,
   "id": "ed8412e9",
   "metadata": {},
   "outputs": [],
   "source": [
    "x[1:3 ,1:3] =589"
   ]
  },
  {
   "cell_type": "markdown",
   "id": "0e455aba",
   "metadata": {},
   "source": [
    "#### Replace All Elements"
   ]
  },
  {
   "cell_type": "code",
   "execution_count": null,
   "id": "36a3143b",
   "metadata": {},
   "outputs": [],
   "source": [
    "x [:] = 12289"
   ]
  },
  {
   "cell_type": "markdown",
   "id": "229a7633",
   "metadata": {},
   "source": [
    "####  Replacing the diagonal values only"
   ]
  },
  {
   "cell_type": "code",
   "execution_count": null,
   "id": "91d116c4",
   "metadata": {},
   "outputs": [],
   "source": [
    "x=np.arange(0,32,2)\n",
    "x.resize(4,4)\n",
    "x"
   ]
  },
  {
   "cell_type": "code",
   "execution_count": null,
   "id": "b5006320",
   "metadata": {
    "scrolled": true
   },
   "outputs": [],
   "source": [
    "np.fill_diagonal(x,15)\n",
    "x"
   ]
  },
  {
   "cell_type": "code",
   "execution_count": null,
   "id": "0032b6b2",
   "metadata": {
    "scrolled": false
   },
   "outputs": [],
   "source": [
    "np.fill_diagonal(x,[10,20,30,40])\n",
    "x"
   ]
  },
  {
   "cell_type": "code",
   "execution_count": null,
   "id": "f1a359db",
   "metadata": {
    "scrolled": true
   },
   "outputs": [],
   "source": [
    "np.fill_diagonal(x,[1,3])\n",
    "x"
   ]
  },
  {
   "cell_type": "markdown",
   "id": "e7e744cd",
   "metadata": {},
   "source": [
    "#### Replacing with Conditions"
   ]
  },
  {
   "cell_type": "code",
   "execution_count": null,
   "id": "5427e528",
   "metadata": {
    "scrolled": true
   },
   "outputs": [],
   "source": [
    "x < 4"
   ]
  },
  {
   "cell_type": "code",
   "execution_count": null,
   "id": "974c03d2",
   "metadata": {},
   "outputs": [],
   "source": [
    "x [ x < 4] = 1000"
   ]
  },
  {
   "cell_type": "code",
   "execution_count": null,
   "id": "f0f9a105",
   "metadata": {
    "scrolled": true
   },
   "outputs": [],
   "source": [
    "x"
   ]
  },
  {
   "cell_type": "code",
   "execution_count": null,
   "id": "30fe1c2c",
   "metadata": {},
   "outputs": [],
   "source": [
    "x == 1000"
   ]
  },
  {
   "cell_type": "code",
   "execution_count": null,
   "id": "d1f9903c",
   "metadata": {},
   "outputs": [],
   "source": [
    "x [x == 1000] = 11"
   ]
  },
  {
   "cell_type": "code",
   "execution_count": null,
   "id": "6284e0c2",
   "metadata": {},
   "outputs": [],
   "source": [
    "x"
   ]
  },
  {
   "cell_type": "code",
   "execution_count": null,
   "id": "0f8c910e",
   "metadata": {
    "scrolled": true
   },
   "outputs": [],
   "source": [
    "x[x<4] = 222\n",
    "x"
   ]
  },
  {
   "cell_type": "markdown",
   "id": "6a68d133",
   "metadata": {},
   "source": [
    "## Creating Arrays with Different Methods [Part-13]"
   ]
  },
  {
   "cell_type": "code",
   "execution_count": 61,
   "id": "e850601e",
   "metadata": {},
   "outputs": [
    {
     "data": {
      "text/plain": [
       "array([0, 1, 2, 3, 4, 5, 6, 7, 8, 9])"
      ]
     },
     "execution_count": 61,
     "metadata": {},
     "output_type": "execute_result"
    }
   ],
   "source": [
    "np.arange ( 0 , 10)"
   ]
  },
  {
   "cell_type": "code",
   "execution_count": 62,
   "id": "9eff31ef",
   "metadata": {
    "scrolled": true
   },
   "outputs": [
    {
     "data": {
      "text/plain": [
       "array([15, 16, 17, 18, 19, 20, 21, 22, 23, 24, 25, 26, 27, 28, 29, 30, 31,\n",
       "       32, 33, 34])"
      ]
     },
     "execution_count": 62,
     "metadata": {},
     "output_type": "execute_result"
    }
   ],
   "source": [
    "np.arange(15,35)"
   ]
  },
  {
   "cell_type": "code",
   "execution_count": 63,
   "id": "4fe26d2f",
   "metadata": {},
   "outputs": [
    {
     "data": {
      "text/plain": [
       "array([15, 17, 19, 21, 23, 25, 27, 29, 31, 33])"
      ]
     },
     "execution_count": 63,
     "metadata": {},
     "output_type": "execute_result"
    }
   ],
   "source": [
    "np.arange(15,35 ,2)"
   ]
  },
  {
   "cell_type": "code",
   "execution_count": 64,
   "id": "9dc9a7da",
   "metadata": {},
   "outputs": [
    {
     "data": {
      "text/plain": [
       "array([15., 18., 21., 24., 27., 30., 33.])"
      ]
     },
     "execution_count": 64,
     "metadata": {},
     "output_type": "execute_result"
    }
   ],
   "source": [
    "np.arange( 15,35 ,3,dtype =float)"
   ]
  },
  {
   "cell_type": "code",
   "execution_count": 65,
   "id": "489f79f5",
   "metadata": {},
   "outputs": [
    {
     "data": {
      "text/plain": [
       "array([ 0,  1,  2,  3,  4,  5,  6,  7,  8,  9, 10, 11, 12, 13, 14])"
      ]
     },
     "execution_count": 65,
     "metadata": {},
     "output_type": "execute_result"
    }
   ],
   "source": [
    "np.arange(15)"
   ]
  },
  {
   "cell_type": "code",
   "execution_count": 66,
   "id": "78d20256",
   "metadata": {},
   "outputs": [
    {
     "data": {
      "text/plain": [
       "array([ 0.,  2.,  4.,  6.,  8., 10., 12., 14.])"
      ]
     },
     "execution_count": 66,
     "metadata": {},
     "output_type": "execute_result"
    }
   ],
   "source": [
    "np.arange(0,15,2.0)"
   ]
  },
  {
   "cell_type": "code",
   "execution_count": 67,
   "id": "d9dac1f3",
   "metadata": {},
   "outputs": [
    {
     "data": {
      "text/plain": [
       "array([ 0,  1,  2,  3,  4,  5,  6,  7,  8,  9, 10, 11, 12, 13, 14, 15, 16,\n",
       "       17])"
      ]
     },
     "execution_count": 67,
     "metadata": {},
     "output_type": "execute_result"
    }
   ],
   "source": [
    "np.arange(0,18)"
   ]
  },
  {
   "cell_type": "markdown",
   "id": "763358bb",
   "metadata": {},
   "source": [
    "#### Reshape and Resize"
   ]
  },
  {
   "cell_type": "code",
   "execution_count": null,
   "id": "e24fe42c",
   "metadata": {},
   "outputs": [],
   "source": [
    "x = np.arange(0,18)\n",
    "x"
   ]
  },
  {
   "cell_type": "code",
   "execution_count": null,
   "id": "48a0a64d",
   "metadata": {
    "scrolled": true
   },
   "outputs": [],
   "source": [
    "x.reshape(3,6)"
   ]
  },
  {
   "cell_type": "code",
   "execution_count": null,
   "id": "2c669c68",
   "metadata": {},
   "outputs": [],
   "source": [
    "x"
   ]
  },
  {
   "cell_type": "code",
   "execution_count": null,
   "id": "1cbd0fbe",
   "metadata": {},
   "outputs": [],
   "source": [
    "x.resize(3,6)"
   ]
  },
  {
   "cell_type": "code",
   "execution_count": null,
   "id": "89ac98fd",
   "metadata": {},
   "outputs": [],
   "source": [
    "x"
   ]
  },
  {
   "cell_type": "code",
   "execution_count": null,
   "id": "26053da6",
   "metadata": {
    "scrolled": true
   },
   "outputs": [],
   "source": [
    "x.reshape(6,3)"
   ]
  },
  {
   "cell_type": "code",
   "execution_count": null,
   "id": "2252e5bd",
   "metadata": {},
   "outputs": [],
   "source": [
    "x.reshape(3,3,2)"
   ]
  },
  {
   "cell_type": "markdown",
   "id": "6d0dbdac",
   "metadata": {},
   "source": [
    "##### Random"
   ]
  },
  {
   "cell_type": "code",
   "execution_count": null,
   "id": "1f44d772",
   "metadata": {},
   "outputs": [],
   "source": [
    "x = np.random.randint(0,100,(3,10))\n",
    "x"
   ]
  },
  {
   "cell_type": "code",
   "execution_count": null,
   "id": "3ccb6d32",
   "metadata": {
    "scrolled": false
   },
   "outputs": [],
   "source": [
    "x = np.random.randint(0,10,(5,3))\n",
    "x"
   ]
  },
  {
   "cell_type": "code",
   "execution_count": null,
   "id": "d04d92b5",
   "metadata": {
    "scrolled": true
   },
   "outputs": [],
   "source": [
    "x = np.random.uniform(0,10,(4,3))\n",
    "x"
   ]
  },
  {
   "cell_type": "markdown",
   "id": "6897d8a9",
   "metadata": {},
   "source": [
    "##### Linspace"
   ]
  },
  {
   "cell_type": "code",
   "execution_count": null,
   "id": "27f64bb6",
   "metadata": {
    "scrolled": true
   },
   "outputs": [],
   "source": [
    "np.linspace( 0, 15, 4)  "
   ]
  },
  {
   "cell_type": "code",
   "execution_count": null,
   "id": "5bef1930",
   "metadata": {},
   "outputs": [],
   "source": [
    "np.linspace(0, 10 ,3)"
   ]
  },
  {
   "cell_type": "code",
   "execution_count": null,
   "id": "4f695c62",
   "metadata": {},
   "outputs": [],
   "source": []
  },
  {
   "cell_type": "code",
   "execution_count": null,
   "id": "9c367228",
   "metadata": {
    "scrolled": false
   },
   "outputs": [],
   "source": [
    "np.linspace( 0, 5, 20 )  "
   ]
  },
  {
   "cell_type": "markdown",
   "id": "f98b3753",
   "metadata": {},
   "source": [
    "##### Zeros"
   ]
  },
  {
   "cell_type": "code",
   "execution_count": null,
   "id": "266a83d2",
   "metadata": {
    "scrolled": true
   },
   "outputs": [],
   "source": [
    "np.zeros(shape = (3,10) )"
   ]
  },
  {
   "cell_type": "code",
   "execution_count": null,
   "id": "de6d8885",
   "metadata": {},
   "outputs": [],
   "source": []
  },
  {
   "cell_type": "markdown",
   "id": "cee3f562",
   "metadata": {},
   "source": [
    "##### Ones"
   ]
  },
  {
   "cell_type": "code",
   "execution_count": null,
   "id": "5880b0e0",
   "metadata": {
    "scrolled": false
   },
   "outputs": [],
   "source": [
    "p=np.ones( shape=(2,3), dtype=np.int16 )                # depth/layers=2,rows=3,columns=4 ,dtype can also be specified\n",
    "p"
   ]
  },
  {
   "cell_type": "markdown",
   "id": "54c4d531",
   "metadata": {},
   "source": [
    "##### Eye"
   ]
  },
  {
   "cell_type": "code",
   "execution_count": null,
   "id": "1771727e",
   "metadata": {
    "scrolled": false
   },
   "outputs": [],
   "source": [
    "np.eye(3)"
   ]
  },
  {
   "cell_type": "markdown",
   "id": "98bde666",
   "metadata": {},
   "source": [
    "##### Diag"
   ]
  },
  {
   "cell_type": "code",
   "execution_count": null,
   "id": "f0dcef2b",
   "metadata": {},
   "outputs": [],
   "source": [
    "y = np.array([4,5,10])\n",
    "y"
   ]
  },
  {
   "cell_type": "code",
   "execution_count": null,
   "id": "f1374a91",
   "metadata": {
    "scrolled": false
   },
   "outputs": [],
   "source": [
    "np.diag(y)"
   ]
  },
  {
   "cell_type": "code",
   "execution_count": null,
   "id": "c00e998a",
   "metadata": {
    "scrolled": true
   },
   "outputs": [],
   "source": [
    "y=np.array([4,5,6,10,20])\n",
    "y"
   ]
  },
  {
   "cell_type": "code",
   "execution_count": null,
   "id": "04753890",
   "metadata": {},
   "outputs": [],
   "source": [
    "np.diag(y)"
   ]
  },
  {
   "cell_type": "markdown",
   "id": "7b696053",
   "metadata": {},
   "source": [
    "##### Empty"
   ]
  },
  {
   "cell_type": "code",
   "execution_count": null,
   "id": "9f13dfa2",
   "metadata": {
    "scrolled": false
   },
   "outputs": [],
   "source": [
    "np.empty( (2,3) ) "
   ]
  },
  {
   "cell_type": "markdown",
   "id": "a9461cb7",
   "metadata": {},
   "source": [
    "##### Repeat"
   ]
  },
  {
   "cell_type": "code",
   "execution_count": null,
   "id": "f165be2f",
   "metadata": {
    "scrolled": false
   },
   "outputs": [],
   "source": [
    "np.repeat([1,2,3,5,6],5)"
   ]
  },
  {
   "cell_type": "markdown",
   "id": "8ff8f184",
   "metadata": {},
   "source": [
    "## Basic Math Operations [Part-14]"
   ]
  },
  {
   "cell_type": "code",
   "execution_count": null,
   "id": "18f67636",
   "metadata": {
    "scrolled": true
   },
   "outputs": [],
   "source": [
    "import numpy as np"
   ]
  },
  {
   "cell_type": "code",
   "execution_count": null,
   "id": "fcb49c69",
   "metadata": {
    "scrolled": true
   },
   "outputs": [],
   "source": [
    "a = np.random.randint(0,10,(2,2))\n",
    "b = np.random.randint(0,10,(2,2))"
   ]
  },
  {
   "cell_type": "code",
   "execution_count": null,
   "id": "60e94098",
   "metadata": {},
   "outputs": [],
   "source": [
    "a"
   ]
  },
  {
   "cell_type": "code",
   "execution_count": null,
   "id": "6f8ac3dc",
   "metadata": {},
   "outputs": [],
   "source": [
    "b"
   ]
  },
  {
   "cell_type": "code",
   "execution_count": null,
   "id": "b025c644",
   "metadata": {},
   "outputs": [],
   "source": [
    "a-b"
   ]
  },
  {
   "cell_type": "code",
   "execution_count": null,
   "id": "6d94b1ca",
   "metadata": {
    "scrolled": true
   },
   "outputs": [],
   "source": [
    "a+b"
   ]
  },
  {
   "cell_type": "code",
   "execution_count": null,
   "id": "f252e4fb",
   "metadata": {},
   "outputs": [],
   "source": [
    "a*b"
   ]
  },
  {
   "cell_type": "code",
   "execution_count": null,
   "id": "5ff158e0",
   "metadata": {
    "scrolled": true
   },
   "outputs": [],
   "source": [
    "a/b"
   ]
  },
  {
   "cell_type": "code",
   "execution_count": null,
   "id": "8da2ccb3",
   "metadata": {},
   "outputs": [],
   "source": [
    "b/a"
   ]
  },
  {
   "cell_type": "code",
   "execution_count": null,
   "id": "ebe90c82",
   "metadata": {},
   "outputs": [],
   "source": [
    "a*b"
   ]
  },
  {
   "cell_type": "code",
   "execution_count": null,
   "id": "7041910f",
   "metadata": {},
   "outputs": [],
   "source": [
    "np.dot( a ,b)"
   ]
  },
  {
   "cell_type": "code",
   "execution_count": null,
   "id": "ba8faa58",
   "metadata": {
    "scrolled": true
   },
   "outputs": [],
   "source": [
    "a**2"
   ]
  },
  {
   "cell_type": "code",
   "execution_count": null,
   "id": "00b3e4a1",
   "metadata": {
    "scrolled": false
   },
   "outputs": [],
   "source": [
    "np.sqrt(a) #square root"
   ]
  },
  {
   "cell_type": "code",
   "execution_count": null,
   "id": "8948179f",
   "metadata": {
    "scrolled": true
   },
   "outputs": [],
   "source": [
    "np.cbrt(a) #cuberoot"
   ]
  },
  {
   "cell_type": "code",
   "execution_count": null,
   "id": "50804c24",
   "metadata": {
    "scrolled": true
   },
   "outputs": [],
   "source": [
    "np.exp(a) "
   ]
  },
  {
   "cell_type": "markdown",
   "id": "08c58977",
   "metadata": {},
   "source": [
    "## Aggregate Functions [Part-15]"
   ]
  },
  {
   "cell_type": "code",
   "execution_count": null,
   "id": "247a8bab",
   "metadata": {},
   "outputs": [],
   "source": [
    "import numpy as np"
   ]
  },
  {
   "cell_type": "code",
   "execution_count": 69,
   "id": "32b6ef1e",
   "metadata": {
    "scrolled": false
   },
   "outputs": [
    {
     "data": {
      "text/plain": [
       "array([[1, 2, 3],\n",
       "       [4, 5, 6]])"
      ]
     },
     "execution_count": 69,
     "metadata": {},
     "output_type": "execute_result"
    }
   ],
   "source": [
    "a = np.arange(1,7)\n",
    "a.resize(2,3)\n",
    "a"
   ]
  },
  {
   "cell_type": "code",
   "execution_count": null,
   "id": "1946a027",
   "metadata": {},
   "outputs": [],
   "source": [
    "np.sum(a)"
   ]
  },
  {
   "cell_type": "code",
   "execution_count": null,
   "id": "4de45665",
   "metadata": {},
   "outputs": [],
   "source": [
    "np.sum( a , axis =0)"
   ]
  },
  {
   "cell_type": "code",
   "execution_count": null,
   "id": "e741577e",
   "metadata": {},
   "outputs": [],
   "source": [
    "np.sum( a ,axis =1)"
   ]
  },
  {
   "cell_type": "code",
   "execution_count": null,
   "id": "7283e7ba",
   "metadata": {
    "scrolled": true
   },
   "outputs": [],
   "source": [
    "np.prod(a)"
   ]
  },
  {
   "cell_type": "code",
   "execution_count": null,
   "id": "910855c9",
   "metadata": {
    "scrolled": true
   },
   "outputs": [],
   "source": [
    "np.prod(a,axis = 1)"
   ]
  },
  {
   "cell_type": "code",
   "execution_count": null,
   "id": "78a52b10",
   "metadata": {},
   "outputs": [],
   "source": [
    "np.prod(a,axis =0)"
   ]
  },
  {
   "cell_type": "code",
   "execution_count": null,
   "id": "a4dd6440",
   "metadata": {},
   "outputs": [],
   "source": [
    "np.max(a)"
   ]
  },
  {
   "cell_type": "code",
   "execution_count": 70,
   "id": "fe1fe957",
   "metadata": {},
   "outputs": [
    {
     "data": {
      "text/plain": [
       "3.5"
      ]
     },
     "execution_count": 70,
     "metadata": {},
     "output_type": "execute_result"
    }
   ],
   "source": [
    "np.average(a )"
   ]
  },
  {
   "cell_type": "code",
   "execution_count": 71,
   "id": "7be0c1e3",
   "metadata": {},
   "outputs": [
    {
     "data": {
      "text/plain": [
       "array([2., 5.])"
      ]
     },
     "execution_count": 71,
     "metadata": {},
     "output_type": "execute_result"
    }
   ],
   "source": [
    "np.average(a ,axis= 1)"
   ]
  },
  {
   "cell_type": "code",
   "execution_count": 72,
   "id": "f17cfc91",
   "metadata": {},
   "outputs": [
    {
     "data": {
      "text/plain": [
       "array([2.5, 3.5, 4.5])"
      ]
     },
     "execution_count": 72,
     "metadata": {},
     "output_type": "execute_result"
    }
   ],
   "source": [
    "np.average(a ,axis= 0)"
   ]
  },
  {
   "cell_type": "code",
   "execution_count": 75,
   "id": "95aa543b",
   "metadata": {
    "scrolled": true
   },
   "outputs": [
    {
     "data": {
      "text/plain": [
       "1"
      ]
     },
     "execution_count": 75,
     "metadata": {},
     "output_type": "execute_result"
    }
   ],
   "source": [
    "np.min(a )"
   ]
  },
  {
   "cell_type": "code",
   "execution_count": 73,
   "id": "2ad814ea",
   "metadata": {
    "scrolled": true
   },
   "outputs": [
    {
     "data": {
      "text/plain": [
       "array([1, 4])"
      ]
     },
     "execution_count": 73,
     "metadata": {},
     "output_type": "execute_result"
    }
   ],
   "source": [
    "np.min(a ,axis =1)"
   ]
  },
  {
   "cell_type": "code",
   "execution_count": 74,
   "id": "4d4058ee",
   "metadata": {},
   "outputs": [
    {
     "data": {
      "text/plain": [
       "array([1, 2, 3])"
      ]
     },
     "execution_count": 74,
     "metadata": {},
     "output_type": "execute_result"
    }
   ],
   "source": [
    "np.min(a ,axis =0)"
   ]
  },
  {
   "cell_type": "code",
   "execution_count": null,
   "id": "885923dd",
   "metadata": {
    "scrolled": true
   },
   "outputs": [],
   "source": [
    "np.median(a)"
   ]
  },
  {
   "cell_type": "markdown",
   "id": "d38ce452",
   "metadata": {},
   "source": [
    "#### Aggregate Functions with Multiple arrays"
   ]
  },
  {
   "cell_type": "code",
   "execution_count": null,
   "id": "56b0e457",
   "metadata": {},
   "outputs": [],
   "source": [
    "a = np.arange(1,7)\n",
    "a.resize(2,3)\n",
    "a"
   ]
  },
  {
   "cell_type": "code",
   "execution_count": null,
   "id": "f2930471",
   "metadata": {},
   "outputs": [],
   "source": [
    "b = np.random.randint(0,10,(2,3))\n",
    "c = np.random.randint(0,10,(2,3))"
   ]
  },
  {
   "cell_type": "code",
   "execution_count": null,
   "id": "54c8f2fc",
   "metadata": {},
   "outputs": [],
   "source": [
    "a"
   ]
  },
  {
   "cell_type": "code",
   "execution_count": null,
   "id": "84dd3b0c",
   "metadata": {},
   "outputs": [],
   "source": [
    "b"
   ]
  },
  {
   "cell_type": "code",
   "execution_count": null,
   "id": "b1b8f51d",
   "metadata": {},
   "outputs": [],
   "source": [
    "c"
   ]
  },
  {
   "cell_type": "code",
   "execution_count": null,
   "id": "d9f19ede",
   "metadata": {},
   "outputs": [],
   "source": [
    "np.maximum(a,b,c)"
   ]
  },
  {
   "cell_type": "code",
   "execution_count": null,
   "id": "1bea0977",
   "metadata": {},
   "outputs": [],
   "source": [
    "np.maximum(a,b)"
   ]
  },
  {
   "cell_type": "code",
   "execution_count": null,
   "id": "6ff01431",
   "metadata": {},
   "outputs": [],
   "source": [
    "np.minimum(a,b)"
   ]
  },
  {
   "cell_type": "markdown",
   "id": "1f17a505",
   "metadata": {},
   "source": [
    "#### Other aggregate functions to explore"
   ]
  },
  {
   "cell_type": "code",
   "execution_count": null,
   "id": "ecbc60e2",
   "metadata": {
    "scrolled": true
   },
   "outputs": [],
   "source": [
    "np.corrcoef(a)\n",
    "np.argmax(a)\n",
    "np.percentile(a, 50)\n",
    "np.cumprod(a,0)  \n",
    "np.cumsum(a)\n",
    "np.std(a)\n",
    "np.var(a)"
   ]
  },
  {
   "cell_type": "markdown",
   "id": "f0c701d1",
   "metadata": {},
   "source": [
    "## Join [Part-16]"
   ]
  },
  {
   "cell_type": "code",
   "execution_count": null,
   "id": "3ceb1bee",
   "metadata": {},
   "outputs": [],
   "source": [
    "import numpy as np"
   ]
  },
  {
   "cell_type": "code",
   "execution_count": null,
   "id": "0ade6a06",
   "metadata": {},
   "outputs": [],
   "source": [
    "a1= np.arange(9)\n",
    "a1"
   ]
  },
  {
   "cell_type": "code",
   "execution_count": null,
   "id": "5bc1e118",
   "metadata": {},
   "outputs": [],
   "source": [
    "b1= np.arange(10,19)\n",
    "b1"
   ]
  },
  {
   "cell_type": "code",
   "execution_count": null,
   "id": "1fc5cad8",
   "metadata": {},
   "outputs": [],
   "source": [
    "a2= np.arange(9)\n",
    "a2.resize(3,3)\n",
    "a2"
   ]
  },
  {
   "cell_type": "code",
   "execution_count": null,
   "id": "7cc5924e",
   "metadata": {},
   "outputs": [],
   "source": [
    "b2= np.arange(10,19)\n",
    "b2.resize(3,3)\n",
    "b2"
   ]
  },
  {
   "cell_type": "code",
   "execution_count": null,
   "id": "211546cb",
   "metadata": {},
   "outputs": [],
   "source": [
    "a1"
   ]
  },
  {
   "cell_type": "code",
   "execution_count": null,
   "id": "6b0679b8",
   "metadata": {},
   "outputs": [],
   "source": [
    "b1"
   ]
  },
  {
   "cell_type": "markdown",
   "id": "73b0069d",
   "metadata": {},
   "source": [
    "##### By concantinate function"
   ]
  },
  {
   "cell_type": "code",
   "execution_count": null,
   "id": "da1075e4",
   "metadata": {
    "scrolled": true
   },
   "outputs": [],
   "source": [
    "np.concatenate( (a1,b1 ) )"
   ]
  },
  {
   "cell_type": "code",
   "execution_count": null,
   "id": "664a40f6",
   "metadata": {},
   "outputs": [],
   "source": [
    "a2"
   ]
  },
  {
   "cell_type": "code",
   "execution_count": null,
   "id": "208b74e5",
   "metadata": {
    "scrolled": true
   },
   "outputs": [],
   "source": [
    "b2"
   ]
  },
  {
   "cell_type": "code",
   "execution_count": null,
   "id": "9401688b",
   "metadata": {
    "scrolled": true
   },
   "outputs": [],
   "source": [
    "np.concatenate( (a2,b2 ) )"
   ]
  },
  {
   "cell_type": "code",
   "execution_count": null,
   "id": "217a37b8",
   "metadata": {},
   "outputs": [],
   "source": [
    "np.concatenate( (a2,b2 ), axis =1 )"
   ]
  },
  {
   "cell_type": "markdown",
   "id": "8b5e44bf",
   "metadata": {},
   "source": [
    "##### By Stack function"
   ]
  },
  {
   "cell_type": "code",
   "execution_count": null,
   "id": "e615ec82",
   "metadata": {},
   "outputs": [],
   "source": [
    "a1"
   ]
  },
  {
   "cell_type": "code",
   "execution_count": null,
   "id": "06c09494",
   "metadata": {},
   "outputs": [],
   "source": [
    "b1"
   ]
  },
  {
   "cell_type": "code",
   "execution_count": null,
   "id": "72ba5540",
   "metadata": {},
   "outputs": [],
   "source": [
    "np.vstack( ( a1,b1, a1) )"
   ]
  },
  {
   "cell_type": "code",
   "execution_count": null,
   "id": "54cd1570",
   "metadata": {},
   "outputs": [],
   "source": [
    "np.hstack( (a1,b1))"
   ]
  },
  {
   "cell_type": "code",
   "execution_count": null,
   "id": "d21b764a",
   "metadata": {
    "scrolled": true
   },
   "outputs": [],
   "source": [
    "a2"
   ]
  },
  {
   "cell_type": "code",
   "execution_count": null,
   "id": "bac8b140",
   "metadata": {},
   "outputs": [],
   "source": [
    "b2"
   ]
  },
  {
   "cell_type": "code",
   "execution_count": null,
   "id": "0e4ed4ad",
   "metadata": {},
   "outputs": [],
   "source": [
    "np.vstack( ( a2,b2) )"
   ]
  },
  {
   "cell_type": "code",
   "execution_count": null,
   "id": "7ec375e0",
   "metadata": {},
   "outputs": [],
   "source": [
    "a1"
   ]
  },
  {
   "cell_type": "code",
   "execution_count": null,
   "id": "bdf27724",
   "metadata": {},
   "outputs": [],
   "source": [
    "a2"
   ]
  },
  {
   "cell_type": "code",
   "execution_count": null,
   "id": "ef491c95",
   "metadata": {
    "scrolled": true
   },
   "outputs": [],
   "source": [
    "np.concatenate( (a1,a2 ) )"
   ]
  },
  {
   "cell_type": "code",
   "execution_count": null,
   "id": "8994db74",
   "metadata": {},
   "outputs": [],
   "source": [
    "np.vstack( ( a1,a2) )"
   ]
  },
  {
   "cell_type": "markdown",
   "id": "53118375",
   "metadata": {},
   "source": [
    "##### Append"
   ]
  },
  {
   "cell_type": "code",
   "execution_count": null,
   "id": "80b50942",
   "metadata": {
    "scrolled": true
   },
   "outputs": [],
   "source": [
    "b2"
   ]
  },
  {
   "cell_type": "code",
   "execution_count": null,
   "id": "dd8f62ac",
   "metadata": {},
   "outputs": [],
   "source": [
    "a1"
   ]
  },
  {
   "cell_type": "code",
   "execution_count": null,
   "id": "35c2566f",
   "metadata": {},
   "outputs": [],
   "source": [
    "np.append(b2,a1)"
   ]
  },
  {
   "cell_type": "markdown",
   "id": "e474e6c9",
   "metadata": {},
   "source": [
    "## 1D Array Spliting [Part-17]"
   ]
  },
  {
   "cell_type": "code",
   "execution_count": null,
   "id": "ba21bee9",
   "metadata": {},
   "outputs": [],
   "source": [
    "import numpy as np "
   ]
  },
  {
   "cell_type": "code",
   "execution_count": null,
   "id": "b70c594f",
   "metadata": {},
   "outputs": [],
   "source": [
    "x=np.arange(1,19)\n",
    "x"
   ]
  },
  {
   "cell_type": "code",
   "execution_count": null,
   "id": "e7796945",
   "metadata": {},
   "outputs": [],
   "source": [
    "np.split(x ,2 )"
   ]
  },
  {
   "cell_type": "code",
   "execution_count": null,
   "id": "16e7aa60",
   "metadata": {},
   "outputs": [],
   "source": [
    "np.split(x ,3 )"
   ]
  },
  {
   "cell_type": "markdown",
   "id": "c80217a9",
   "metadata": {},
   "source": [
    "#####  Custom Split"
   ]
  },
  {
   "cell_type": "code",
   "execution_count": null,
   "id": "945c2833",
   "metadata": {
    "scrolled": false
   },
   "outputs": [],
   "source": [
    "x"
   ]
  },
  {
   "cell_type": "code",
   "execution_count": null,
   "id": "b1349ddd",
   "metadata": {
    "scrolled": true
   },
   "outputs": [],
   "source": [
    "np.split ( x , [4 ,6,10,13])"
   ]
  },
  {
   "cell_type": "code",
   "execution_count": null,
   "id": "af3f844f",
   "metadata": {},
   "outputs": [],
   "source": [
    "x=np.arange(1,19,3)\n",
    "x"
   ]
  },
  {
   "cell_type": "code",
   "execution_count": null,
   "id": "d8361751",
   "metadata": {},
   "outputs": [],
   "source": [
    "np.split ( x , [3,5])"
   ]
  },
  {
   "cell_type": "markdown",
   "id": "d564c757",
   "metadata": {},
   "source": [
    "##### Accessing Splited Arrays"
   ]
  },
  {
   "cell_type": "code",
   "execution_count": null,
   "id": "617258cc",
   "metadata": {},
   "outputs": [],
   "source": [
    "x=np.arange(1,19)\n",
    "x"
   ]
  },
  {
   "cell_type": "code",
   "execution_count": null,
   "id": "3aecab7a",
   "metadata": {},
   "outputs": [],
   "source": [
    "np.split(x ,3)"
   ]
  },
  {
   "cell_type": "code",
   "execution_count": null,
   "id": "aebe0f26",
   "metadata": {},
   "outputs": [],
   "source": [
    "np.split(x ,3)[1]"
   ]
  },
  {
   "cell_type": "code",
   "execution_count": null,
   "id": "b2c00060",
   "metadata": {},
   "outputs": [],
   "source": [
    "np.split(x ,3)[2]"
   ]
  },
  {
   "cell_type": "code",
   "execution_count": null,
   "id": "f2e653c7",
   "metadata": {
    "scrolled": true
   },
   "outputs": [],
   "source": [
    "np.split( x ,3)[-1]"
   ]
  },
  {
   "cell_type": "markdown",
   "id": "f992bfbf",
   "metadata": {},
   "source": [
    "##### Unequal Spliting"
   ]
  },
  {
   "cell_type": "code",
   "execution_count": null,
   "id": "c08fcba6",
   "metadata": {},
   "outputs": [],
   "source": [
    "x=np.arange(1,11)\n",
    "x"
   ]
  },
  {
   "cell_type": "code",
   "execution_count": null,
   "id": "16888f8e",
   "metadata": {},
   "outputs": [],
   "source": [
    "np.split(x, 3)"
   ]
  },
  {
   "cell_type": "code",
   "execution_count": null,
   "id": "c23aaf32",
   "metadata": {},
   "outputs": [],
   "source": [
    "np.array_split(x,3)"
   ]
  },
  {
   "cell_type": "code",
   "execution_count": null,
   "id": "e4a18e68",
   "metadata": {},
   "outputs": [],
   "source": [
    "x=np.arange(1,12)\n",
    "x"
   ]
  },
  {
   "cell_type": "code",
   "execution_count": null,
   "id": "bd193063",
   "metadata": {},
   "outputs": [],
   "source": [
    "np.array_split( x ,3)"
   ]
  },
  {
   "cell_type": "markdown",
   "id": "56b98fed",
   "metadata": {},
   "source": [
    "## 2D Array Spliting [Part-18]"
   ]
  },
  {
   "cell_type": "code",
   "execution_count": null,
   "id": "1d5417ba",
   "metadata": {},
   "outputs": [],
   "source": [
    "Image(filename='Np_image/2d_array_split_0.jpg') "
   ]
  },
  {
   "cell_type": "code",
   "execution_count": null,
   "id": "78984c8a",
   "metadata": {},
   "outputs": [],
   "source": [
    "import numpy as np"
   ]
  },
  {
   "cell_type": "code",
   "execution_count": null,
   "id": "562b46d4",
   "metadata": {},
   "outputs": [],
   "source": [
    "x=np.arange(1,17).reshape(4,4)\n",
    "x"
   ]
  },
  {
   "cell_type": "code",
   "execution_count": null,
   "id": "c310d6f0",
   "metadata": {},
   "outputs": [],
   "source": [
    "np.split(x , 2 ) "
   ]
  },
  {
   "cell_type": "code",
   "execution_count": null,
   "id": "33a94b06",
   "metadata": {},
   "outputs": [],
   "source": [
    "np.split(x , 4 ) "
   ]
  },
  {
   "cell_type": "code",
   "execution_count": null,
   "id": "90d1086c",
   "metadata": {},
   "outputs": [],
   "source": [
    "x"
   ]
  },
  {
   "cell_type": "code",
   "execution_count": null,
   "id": "bc0e9f58",
   "metadata": {},
   "outputs": [],
   "source": [
    "np.split(x , 2 ,axis=1)"
   ]
  },
  {
   "cell_type": "code",
   "execution_count": null,
   "id": "7a8946ae",
   "metadata": {},
   "outputs": [],
   "source": [
    "x=np.arange(1,17).reshape(8,2)\n",
    "x"
   ]
  },
  {
   "cell_type": "code",
   "execution_count": null,
   "id": "26afa265",
   "metadata": {},
   "outputs": [],
   "source": [
    "np.split( x, [2,5,7])"
   ]
  },
  {
   "cell_type": "markdown",
   "id": "deb370d8",
   "metadata": {},
   "source": [
    "\n",
    "## 3D Array Spliting [Part-19]"
   ]
  },
  {
   "cell_type": "code",
   "execution_count": 51,
   "id": "3ccf20db",
   "metadata": {},
   "outputs": [],
   "source": [
    "import numpy as np"
   ]
  },
  {
   "cell_type": "code",
   "execution_count": 52,
   "id": "22538831",
   "metadata": {
    "scrolled": true
   },
   "outputs": [
    {
     "data": {
      "text/plain": [
       "array([[[ 1,  2,  3,  4],\n",
       "        [ 5,  6,  7,  8],\n",
       "        [ 9, 10, 11, 12]],\n",
       "\n",
       "       [[13, 14, 15, 16],\n",
       "        [17, 18, 19, 20],\n",
       "        [21, 22, 23, 24]],\n",
       "\n",
       "       [[25, 26, 27, 28],\n",
       "        [29, 30, 31, 32],\n",
       "        [33, 34, 35, 36]],\n",
       "\n",
       "       [[37, 38, 39, 40],\n",
       "        [41, 42, 43, 44],\n",
       "        [45, 46, 47, 48]]])"
      ]
     },
     "execution_count": 52,
     "metadata": {},
     "output_type": "execute_result"
    }
   ],
   "source": [
    "x =  np.arange(1,49).reshape(4,3,4)\n",
    "x"
   ]
  },
  {
   "cell_type": "code",
   "execution_count": 54,
   "id": "09675290",
   "metadata": {
    "scrolled": true
   },
   "outputs": [
    {
     "data": {
      "text/plain": [
       "[array([[[ 1,  2,  3,  4],\n",
       "         [ 5,  6,  7,  8],\n",
       "         [ 9, 10, 11, 12]],\n",
       " \n",
       "        [[13, 14, 15, 16],\n",
       "         [17, 18, 19, 20],\n",
       "         [21, 22, 23, 24]]]),\n",
       " array([[[25, 26, 27, 28],\n",
       "         [29, 30, 31, 32],\n",
       "         [33, 34, 35, 36]],\n",
       " \n",
       "        [[37, 38, 39, 40],\n",
       "         [41, 42, 43, 44],\n",
       "         [45, 46, 47, 48]]])]"
      ]
     },
     "execution_count": 54,
     "metadata": {},
     "output_type": "execute_result"
    }
   ],
   "source": [
    "np.split( x , 2)"
   ]
  },
  {
   "cell_type": "code",
   "execution_count": 55,
   "id": "36177bba",
   "metadata": {},
   "outputs": [
    {
     "data": {
      "text/plain": [
       "[array([[[ 1,  2,  3,  4],\n",
       "         [ 5,  6,  7,  8],\n",
       "         [ 9, 10, 11, 12]]]),\n",
       " array([[[13, 14, 15, 16],\n",
       "         [17, 18, 19, 20],\n",
       "         [21, 22, 23, 24]]]),\n",
       " array([[[25, 26, 27, 28],\n",
       "         [29, 30, 31, 32],\n",
       "         [33, 34, 35, 36]]]),\n",
       " array([[[37, 38, 39, 40],\n",
       "         [41, 42, 43, 44],\n",
       "         [45, 46, 47, 48]]])]"
      ]
     },
     "execution_count": 55,
     "metadata": {},
     "output_type": "execute_result"
    }
   ],
   "source": [
    "np.split( x , 4)"
   ]
  },
  {
   "cell_type": "code",
   "execution_count": null,
   "id": "4adff3cb",
   "metadata": {},
   "outputs": [],
   "source": []
  },
  {
   "cell_type": "markdown",
   "id": "4d46890a",
   "metadata": {},
   "source": [
    "##### Depth Split"
   ]
  },
  {
   "cell_type": "code",
   "execution_count": 56,
   "id": "ddf78c5b",
   "metadata": {
    "scrolled": true
   },
   "outputs": [
    {
     "data": {
      "text/plain": [
       "array([[[ 1,  2,  3,  4],\n",
       "        [ 5,  6,  7,  8],\n",
       "        [ 9, 10, 11, 12],\n",
       "        [13, 14, 15, 16]],\n",
       "\n",
       "       [[17, 18, 19, 20],\n",
       "        [21, 22, 23, 24],\n",
       "        [25, 26, 27, 28],\n",
       "        [29, 30, 31, 32]]])"
      ]
     },
     "execution_count": 56,
     "metadata": {},
     "output_type": "execute_result"
    }
   ],
   "source": [
    "x=np.arange(1,33).reshape(2,4,4)\n",
    "x"
   ]
  },
  {
   "cell_type": "code",
   "execution_count": 58,
   "id": "5862dedb",
   "metadata": {},
   "outputs": [
    {
     "data": {
      "text/plain": [
       "[array([[[ 1,  2],\n",
       "         [ 5,  6],\n",
       "         [ 9, 10],\n",
       "         [13, 14]],\n",
       " \n",
       "        [[17, 18],\n",
       "         [21, 22],\n",
       "         [25, 26],\n",
       "         [29, 30]]]),\n",
       " array([[[ 3,  4],\n",
       "         [ 7,  8],\n",
       "         [11, 12],\n",
       "         [15, 16]],\n",
       " \n",
       "        [[19, 20],\n",
       "         [23, 24],\n",
       "         [27, 28],\n",
       "         [31, 32]]])]"
      ]
     },
     "execution_count": 58,
     "metadata": {},
     "output_type": "execute_result"
    }
   ],
   "source": [
    "np.dsplit ( x , 2)"
   ]
  },
  {
   "cell_type": "markdown",
   "id": "267e9e11",
   "metadata": {},
   "source": [
    "##### Depth split in Row wise"
   ]
  },
  {
   "cell_type": "code",
   "execution_count": 61,
   "id": "8e1e6014",
   "metadata": {
    "scrolled": true
   },
   "outputs": [
    {
     "data": {
      "text/plain": [
       "array([[[ 1,  2,  3,  4],\n",
       "        [ 5,  6,  7,  8],\n",
       "        [ 9, 10, 11, 12],\n",
       "        [13, 14, 15, 16]],\n",
       "\n",
       "       [[17, 18, 19, 20],\n",
       "        [21, 22, 23, 24],\n",
       "        [25, 26, 27, 28],\n",
       "        [29, 30, 31, 32]]])"
      ]
     },
     "execution_count": 61,
     "metadata": {},
     "output_type": "execute_result"
    }
   ],
   "source": [
    "x=np.arange(1,33).reshape(2,4,4)\n",
    "x"
   ]
  },
  {
   "cell_type": "code",
   "execution_count": 62,
   "id": "7baf07b0",
   "metadata": {},
   "outputs": [
    {
     "data": {
      "text/plain": [
       "[array([[[ 1,  2,  3,  4],\n",
       "         [ 5,  6,  7,  8]],\n",
       " \n",
       "        [[17, 18, 19, 20],\n",
       "         [21, 22, 23, 24]]]),\n",
       " array([[[ 9, 10, 11, 12],\n",
       "         [13, 14, 15, 16]],\n",
       " \n",
       "        [[25, 26, 27, 28],\n",
       "         [29, 30, 31, 32]]])]"
      ]
     },
     "execution_count": 62,
     "metadata": {},
     "output_type": "execute_result"
    }
   ],
   "source": [
    " np.hsplit(x,2) "
   ]
  },
  {
   "cell_type": "code",
   "execution_count": 63,
   "id": "f8a588aa",
   "metadata": {},
   "outputs": [
    {
     "data": {
      "text/plain": [
       "[array([[[ 1,  2,  3,  4],\n",
       "         [ 5,  6,  7,  8],\n",
       "         [ 9, 10, 11, 12],\n",
       "         [13, 14, 15, 16]]]),\n",
       " array([[[17, 18, 19, 20],\n",
       "         [21, 22, 23, 24],\n",
       "         [25, 26, 27, 28],\n",
       "         [29, 30, 31, 32]]])]"
      ]
     },
     "execution_count": 63,
     "metadata": {},
     "output_type": "execute_result"
    }
   ],
   "source": [
    "np.vsplit(x,2) #this is same as split in 3d ie split wrt layers"
   ]
  },
  {
   "cell_type": "markdown",
   "id": "dd885de1",
   "metadata": {},
   "source": [
    "## Iterations [Part-20]"
   ]
  },
  {
   "cell_type": "code",
   "execution_count": null,
   "id": "cee7749e",
   "metadata": {},
   "outputs": [],
   "source": [
    "import numpy as np"
   ]
  },
  {
   "cell_type": "code",
   "execution_count": null,
   "id": "a9bb48c4",
   "metadata": {},
   "outputs": [],
   "source": [
    "x= np.arange(0,5)\n",
    "x"
   ]
  },
  {
   "cell_type": "code",
   "execution_count": null,
   "id": "5b2b2e94",
   "metadata": {},
   "outputs": [],
   "source": [
    "for i in x:\n",
    "    print(i)"
   ]
  },
  {
   "cell_type": "markdown",
   "id": "be03d205",
   "metadata": {},
   "source": [
    "#### 2D Iterations"
   ]
  },
  {
   "cell_type": "code",
   "execution_count": null,
   "id": "35369b15",
   "metadata": {},
   "outputs": [],
   "source": [
    "x= np.arange(0,12).reshape(4,3)\n",
    "x"
   ]
  },
  {
   "cell_type": "code",
   "execution_count": 3,
   "id": "f44f98b8",
   "metadata": {
    "scrolled": true
   },
   "outputs": [],
   "source": [
    "from IPython.display import Image\n",
    "import numpy as np"
   ]
  },
  {
   "cell_type": "code",
   "execution_count": null,
   "id": "999a8957",
   "metadata": {},
   "outputs": [],
   "source": [
    "for i in x :\n",
    "    print(i)"
   ]
  },
  {
   "cell_type": "code",
   "execution_count": null,
   "id": "288f9e3c",
   "metadata": {},
   "outputs": [],
   "source": [
    "x= np.arange(0,12).reshape(3,4)\n",
    "x"
   ]
  },
  {
   "cell_type": "code",
   "execution_count": null,
   "id": "4920de0d",
   "metadata": {},
   "outputs": [],
   "source": [
    "for i in x:\n",
    "    print(i)"
   ]
  },
  {
   "cell_type": "code",
   "execution_count": null,
   "id": "351aad14",
   "metadata": {},
   "outputs": [],
   "source": [
    "for i in x:\n",
    "    for j in i:\n",
    "        print(j)"
   ]
  },
  {
   "cell_type": "code",
   "execution_count": null,
   "id": "630e37b4",
   "metadata": {},
   "outputs": [],
   "source": [
    "for i in np.nditer(x):\n",
    "    print(i)"
   ]
  },
  {
   "cell_type": "markdown",
   "id": "ee7ba5c5",
   "metadata": {},
   "source": [
    "#### 3D Iterations"
   ]
  },
  {
   "cell_type": "code",
   "execution_count": 36,
   "id": "a0258e3b",
   "metadata": {},
   "outputs": [
    {
     "data": {
      "text/plain": [
       "array([[[0, 1],\n",
       "        [2, 3]],\n",
       "\n",
       "       [[4, 5],\n",
       "        [6, 7]]])"
      ]
     },
     "execution_count": 36,
     "metadata": {},
     "output_type": "execute_result"
    }
   ],
   "source": [
    "x= np.arange(0,8).reshape(2,2,2)\n",
    "x"
   ]
  },
  {
   "cell_type": "code",
   "execution_count": null,
   "id": "70fa519b",
   "metadata": {},
   "outputs": [],
   "source": [
    "for i in x:\n",
    "    print(i)"
   ]
  },
  {
   "cell_type": "code",
   "execution_count": null,
   "id": "54f7c185",
   "metadata": {},
   "outputs": [],
   "source": [
    "for i in x :\n",
    "    for j in i :\n",
    "        print(j)"
   ]
  },
  {
   "cell_type": "code",
   "execution_count": null,
   "id": "0e875f13",
   "metadata": {},
   "outputs": [],
   "source": [
    "for i in x:\n",
    "    for j  in i :\n",
    "        for k in j:\n",
    "            print(k)"
   ]
  },
  {
   "cell_type": "markdown",
   "id": "ccbad96b",
   "metadata": {},
   "source": [
    "#### Nditer"
   ]
  },
  {
   "cell_type": "code",
   "execution_count": 37,
   "id": "d96f0988",
   "metadata": {},
   "outputs": [
    {
     "data": {
      "text/plain": [
       "array([[[0, 1],\n",
       "        [2, 3]],\n",
       "\n",
       "       [[4, 5],\n",
       "        [6, 7]]])"
      ]
     },
     "execution_count": 37,
     "metadata": {},
     "output_type": "execute_result"
    }
   ],
   "source": [
    "x"
   ]
  },
  {
   "cell_type": "code",
   "execution_count": null,
   "id": "698f3860",
   "metadata": {},
   "outputs": [],
   "source": [
    "for i in np.nditer(x):\n",
    "    print(i)"
   ]
  },
  {
   "cell_type": "markdown",
   "id": "259c555c",
   "metadata": {},
   "source": [
    "#### Enumerate"
   ]
  },
  {
   "cell_type": "code",
   "execution_count": null,
   "id": "dc49f0b1",
   "metadata": {},
   "outputs": [],
   "source": [
    "x= np.arange(0,12).reshape(3,4)\n",
    "x"
   ]
  },
  {
   "cell_type": "code",
   "execution_count": null,
   "id": "9c65f673",
   "metadata": {},
   "outputs": [],
   "source": [
    "for index, i in np.ndenumerate(x):\n",
    "    print(index, i)"
   ]
  },
  {
   "cell_type": "markdown",
   "id": "e34c2aef",
   "metadata": {},
   "source": [
    "## Other Operations [Part -21]"
   ]
  },
  {
   "cell_type": "code",
   "execution_count": null,
   "id": "001bca70",
   "metadata": {
    "scrolled": true
   },
   "outputs": [],
   "source": [
    "np.ravel(a)"
   ]
  },
  {
   "cell_type": "code",
   "execution_count": null,
   "id": "e02eac3d",
   "metadata": {
    "scrolled": true
   },
   "outputs": [],
   "source": [
    "a.T #traverse"
   ]
  },
  {
   "cell_type": "markdown",
   "id": "eea97114",
   "metadata": {},
   "source": [
    "##### Type Casting"
   ]
  },
  {
   "cell_type": "code",
   "execution_count": null,
   "id": "5efb6849",
   "metadata": {
    "scrolled": true
   },
   "outputs": [],
   "source": [
    "a.astype(float)\n",
    "a.astype(int)\n",
    "a.astype(complex)"
   ]
  },
  {
   "cell_type": "markdown",
   "id": "dca4dd2e",
   "metadata": {},
   "source": [
    "##### Flipud FliplrArrays"
   ]
  },
  {
   "cell_type": "code",
   "execution_count": null,
   "id": "b00b903a",
   "metadata": {
    "scrolled": true
   },
   "outputs": [],
   "source": [
    "np.fliplr(x)"
   ]
  },
  {
   "cell_type": "code",
   "execution_count": null,
   "id": "f845ffc9",
   "metadata": {
    "scrolled": false
   },
   "outputs": [],
   "source": [
    "np.flipud(x)"
   ]
  },
  {
   "cell_type": "code",
   "execution_count": null,
   "id": "ba43e0a5",
   "metadata": {
    "scrolled": true
   },
   "outputs": [],
   "source": [
    "anp.fill_diagonal(np.fliplr(a), [1,2,3])"
   ]
  },
  {
   "cell_type": "markdown",
   "id": "7c7b5dee",
   "metadata": {},
   "source": [
    "##### Create Copy"
   ]
  },
  {
   "cell_type": "code",
   "execution_count": null,
   "id": "305034bd",
   "metadata": {
    "scrolled": true
   },
   "outputs": [],
   "source": [
    "r_copy=r.copy()\n",
    "r_copy"
   ]
  }
 ],
 "metadata": {
  "kernelspec": {
   "display_name": "Python 3",
   "language": "python",
   "name": "python3"
  },
  "language_info": {
   "codemirror_mode": {
    "name": "ipython",
    "version": 3
   },
   "file_extension": ".py",
   "mimetype": "text/x-python",
   "name": "python",
   "nbconvert_exporter": "python",
   "pygments_lexer": "ipython3",
   "version": "3.8.8"
  }
 },
 "nbformat": 4,
 "nbformat_minor": 5
}
